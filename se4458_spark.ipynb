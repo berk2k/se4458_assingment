{
 "cells": [
  {
   "cell_type": "code",
   "execution_count": 16,
   "id": "e84a7a75",
   "metadata": {},
   "outputs": [],
   "source": [
    "import psycopg2\n",
    "from pyspark.sql import SparkSession\n",
    "from pyspark.sql.functions import col, when, count,regexp_replace,expr\n",
    "\n",
    "spark = SparkSession.builder.getOrCreate()"
   ]
  },
  {
   "cell_type": "code",
   "execution_count": 2,
   "id": "271b5f92",
   "metadata": {
    "collapsed": true
   },
   "outputs": [
    {
     "data": {
      "text/html": [
       "\n",
       "            <div>\n",
       "                <p><b>SparkSession - in-memory</b></p>\n",
       "                \n",
       "        <div>\n",
       "            <p><b>SparkContext</b></p>\n",
       "\n",
       "            <p><a href=\"http://DESKTOP-K3LPADA:4040\">Spark UI</a></p>\n",
       "\n",
       "            <dl>\n",
       "              <dt>Version</dt>\n",
       "                <dd><code>v3.5.0</code></dd>\n",
       "              <dt>Master</dt>\n",
       "                <dd><code>local[*]</code></dd>\n",
       "              <dt>AppName</dt>\n",
       "                <dd><code>pyspark-shell</code></dd>\n",
       "            </dl>\n",
       "        </div>\n",
       "        \n",
       "            </div>\n",
       "        "
      ],
      "text/plain": [
       "<pyspark.sql.session.SparkSession at 0x260d8ed3190>"
      ]
     },
     "execution_count": 2,
     "metadata": {},
     "output_type": "execute_result"
    }
   ],
   "source": [
    "spark"
   ]
  },
  {
   "cell_type": "code",
   "execution_count": 17,
   "id": "52465cd2",
   "metadata": {
    "scrolled": false
   },
   "outputs": [],
   "source": [
    "\n",
    "df = spark.read.csv(\"steam.csv\", header=True, inferSchema=True)\n"
   ]
  },
  {
   "cell_type": "code",
   "execution_count": 18,
   "id": "3262a546",
   "metadata": {},
   "outputs": [
    {
     "name": "stdout",
     "output_type": "stream",
     "text": [
      "data loaded successfully\n"
     ]
    }
   ],
   "source": [
    "#load data to postgre from df(csv file dataframe)\n",
    "try:\n",
    "    df.write.format(\"jdbc\").options(\n",
    "\n",
    "        url=\"jdbc:postgresql://localhost:5432/netflixShows\",\n",
    "        driver=\"org.postgresql.Driver\",\n",
    "        dbtable=\"game_info\",\n",
    "        user=\"postgres\",\n",
    "        password=\"12345\"\n",
    "        ).mode(\"overwrite\").save()\n",
    "    print(\"data loaded successfully\")\n",
    "except Exception as e:\n",
    "    print(\"data load error \"+str(e))"
   ]
  },
  {
   "cell_type": "code",
   "execution_count": 19,
   "id": "477f6847",
   "metadata": {},
   "outputs": [],
   "source": [
    "#extract data from postgre\n",
    "\n",
    "postgres_url = \"jdbc:postgresql://localhost:5432/netflixShows\"\n",
    "properties = {\n",
    "    \"user\": \"postgres\",\n",
    "    \"password\": \"12345\",\n",
    "    \"driver\": \"org.postgresql.Driver\"\n",
    "}\n",
    "\n",
    "# Read data from PostgreSQL\n",
    "new_df = spark.read.jdbc(url=postgres_url, table=\"game_info\", properties=properties)"
   ]
  },
  {
   "cell_type": "code",
   "execution_count": null,
   "id": "364ab37d",
   "metadata": {},
   "outputs": [],
   "source": [
    "#display df\n",
    "new_df.show()"
   ]
  },
  {
   "cell_type": "code",
   "execution_count": 21,
   "id": "1c5db4eb",
   "metadata": {},
   "outputs": [],
   "source": [
    "#transform\n",
    "new_df = new_df.withColumn(\"english\", when(new_df[\"english\"] == 1, 'yes').otherwise(new_df[\"english\"]))\n",
    "new_df = new_df.withColumn(\"required_age\", when(new_df[\"required_age\"] == 0, None).otherwise(new_df[\"required_age\"]))"
   ]
  },
  {
   "cell_type": "code",
   "execution_count": null,
   "id": "69229591",
   "metadata": {},
   "outputs": [],
   "source": [
    "#check if there is any null values\n",
    "null_counts = new_df.select([count(when(col(c).isNull(), c)).alias(c) for c in new_df.columns])\n",
    "\n",
    "null_counts.show()"
   ]
  },
  {
   "cell_type": "code",
   "execution_count": null,
   "id": "11fe6455",
   "metadata": {},
   "outputs": [],
   "source": [
    "#transform\n",
    "for col_name in new_df.columns:\n",
    "    new_df = new_df.withColumn(col_name, when(new_df[col_name].isNull(), 'default_value').otherwise(new_df[col_name]))\n",
    "new_df = new_df.na.fill({'director':'default'})"
   ]
  },
  {
   "cell_type": "code",
   "execution_count": 22,
   "id": "87d2ab29",
   "metadata": {},
   "outputs": [],
   "source": [
    "#Load new df to MySql\n",
    "new_df.write.format(\"jdbc\").options(\n",
    "    \n",
    "    url=\"jdbc:mysql://localhost:3306/test\",\n",
    "    driver=\"com.mysql.cj.jdbc.Driver\",\n",
    "    dbtable=\"game_info\",\n",
    "    user=\"root\",\n",
    "    password=\"berkberk09\"\n",
    "    ).mode(\"overwrite\").save()"
   ]
  },
  {
   "cell_type": "code",
   "execution_count": null,
   "id": "f6b5c255",
   "metadata": {},
   "outputs": [],
   "source": [
    "#null count for each columns\n",
    "null_counts = new_df.select([count(when(col(c).isNull(), c)).alias(c) for c in new_df.columns])\n",
    "\n",
    "null_counts.show()"
   ]
  },
  {
   "cell_type": "code",
   "execution_count": null,
   "id": "9fbf1215",
   "metadata": {},
   "outputs": [],
   "source": []
  }
 ],
 "metadata": {
  "kernelspec": {
   "display_name": "Python 3 (ipykernel)",
   "language": "python",
   "name": "python3"
  },
  "language_info": {
   "codemirror_mode": {
    "name": "ipython",
    "version": 3
   },
   "file_extension": ".py",
   "mimetype": "text/x-python",
   "name": "python",
   "nbconvert_exporter": "python",
   "pygments_lexer": "ipython3",
   "version": "3.11.5"
  }
 },
 "nbformat": 4,
 "nbformat_minor": 5
}
