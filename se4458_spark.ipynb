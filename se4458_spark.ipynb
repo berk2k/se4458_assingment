{
 "cells": [
  {
   "cell_type": "code",
   "execution_count": 16,
   "id": "e84a7a75",
   "metadata": {},
   "outputs": [],
   "source": [
    "import psycopg2\n",
    "from pyspark.sql import SparkSession\n",
    "from pyspark.sql.functions import col, when, count,regexp_replace,expr\n",
    "\n",
    "spark = SparkSession.builder.getOrCreate()"
   ]
  },
  {
   "cell_type": "code",
   "execution_count": 2,
   "id": "271b5f92",
   "metadata": {
    "collapsed": true
   },
   "outputs": [
    {
     "data": {
      "text/html": [
       "\n",
       "            <div>\n",
       "                <p><b>SparkSession - in-memory</b></p>\n",
       "                \n",
       "        <div>\n",
       "            <p><b>SparkContext</b></p>\n",
       "\n",
       "            <p><a href=\"http://DESKTOP-K3LPADA:4040\">Spark UI</a></p>\n",
       "\n",
       "            <dl>\n",
       "              <dt>Version</dt>\n",
       "                <dd><code>v3.5.0</code></dd>\n",
       "              <dt>Master</dt>\n",
       "                <dd><code>local[*]</code></dd>\n",
       "              <dt>AppName</dt>\n",
       "                <dd><code>pyspark-shell</code></dd>\n",
       "            </dl>\n",
       "        </div>\n",
       "        \n",
       "            </div>\n",
       "        "
      ],
      "text/plain": [
       "<pyspark.sql.session.SparkSession at 0x260d8ed3190>"
      ]
     },
     "execution_count": 2,
     "metadata": {},
     "output_type": "execute_result"
    }
   ],
   "source": [
    "spark"
   ]
  },
  {
   "cell_type": "code",
   "execution_count": 17,
   "id": "52465cd2",
   "metadata": {
    "scrolled": false
   },
   "outputs": [],
   "source": [
    "\n",
    "df = spark.read.csv(\"steam.csv\", header=True, inferSchema=True)\n"
   ]
  },
  {
   "cell_type": "code",
   "execution_count": 18,
   "id": "3262a546",
   "metadata": {},
   "outputs": [
    {
     "name": "stdout",
     "output_type": "stream",
     "text": [
      "data loaded successfully\n"
     ]
    }
   ],
   "source": [
    "#load data to postgre from df(csv file dataframe)\n",
    "try:\n",
    "    df.write.format(\"jdbc\").options(\n",
    "\n",
    "        url=\"jdbc:postgresql://localhost:5432/netflixShows\",\n",
    "        driver=\"org.postgresql.Driver\",\n",
    "        dbtable=\"game_info\",\n",
    "        user=\"postgres\",\n",
    "        password=\"12345\"\n",
    "        ).mode(\"overwrite\").save()\n",
    "    print(\"data loaded successfully\")\n",
    "except Exception as e:\n",
    "    print(\"data load error \"+str(e))"
   ]
  },
  {
   "cell_type": "code",
   "execution_count": 19,
   "id": "477f6847",
   "metadata": {},
   "outputs": [],
   "source": [
    "#extract data from postgre\n",
    "\n",
    "postgres_url = \"jdbc:postgresql://localhost:5432/netflixShows\"\n",
    "properties = {\n",
    "    \"user\": \"postgres\",\n",
    "    \"password\": \"12345\",\n",
    "    \"driver\": \"org.postgresql.Driver\"\n",
    "}\n",
    "\n",
    "# Read data from PostgreSQL\n",
    "new_df = spark.read.jdbc(url=postgres_url, table=\"game_info\", properties=properties)"
   ]
  },
  {
   "cell_type": "code",
   "execution_count": 20,
   "id": "efae4588",
   "metadata": {
    "collapsed": true
   },
   "outputs": [
    {
     "name": "stdout",
     "output_type": "stream",
     "text": [
      "+-----+--------------------+------------+-------+----------------+---------+-----------------+------------+--------------------+-------------------+--------------------+------------+----------------+----------------+----------------+---------------+-----------------+-----+\n",
      "|appid|                name|release_date|english|       developer|publisher|        platforms|required_age|          categories|             genres|       steamspy_tags|achievements|positive_ratings|negative_ratings|average_playtime|median_playtime|           owners|price|\n",
      "+-----+--------------------+------------+-------+----------------+---------+-----------------+------------+--------------------+-------------------+--------------------+------------+----------------+----------------+----------------+---------------+-----------------+-----+\n",
      "|   10|      Counter-Strike|  2000-11-01|      1|           Valve|    Valve|windows;mac;linux|           0|Multi-player;Onli...|             Action|Action;FPS;Multip...|           0|          124534|            3339|           17612|            317|10000000-20000000| 7.19|\n",
      "|   20|Team Fortress Cla...|  1999-04-01|      1|           Valve|    Valve|windows;mac;linux|           0|Multi-player;Onli...|             Action|Action;FPS;Multip...|           0|            3318|             633|             277|             62| 5000000-10000000| 3.99|\n",
      "|   30|       Day of Defeat|  2003-05-01|      1|           Valve|    Valve|windows;mac;linux|           0|Multi-player;Valv...|             Action|FPS;World War II;...|           0|            3416|             398|             187|             34| 5000000-10000000| 3.99|\n",
      "|   40|  Deathmatch Classic|  2001-06-01|      1|           Valve|    Valve|windows;mac;linux|           0|Multi-player;Onli...|             Action|Action;FPS;Multip...|           0|            1273|             267|             258|            184| 5000000-10000000| 3.99|\n",
      "|   50|Half-Life: Opposi...|  1999-11-01|      1|Gearbox Software|    Valve|windows;mac;linux|           0|Single-player;Mul...|             Action|   FPS;Action;Sci-fi|           0|            5250|             288|             624|            415| 5000000-10000000| 3.99|\n",
      "|   60|            Ricochet|  2000-11-01|      1|           Valve|    Valve|windows;mac;linux|           0|Multi-player;Onli...|             Action|Action;FPS;Multip...|           0|            2758|             684|             175|             10| 5000000-10000000| 3.99|\n",
      "|   70|           Half-Life|  1998-11-08|      1|           Valve|    Valve|windows;mac;linux|           0|Single-player;Mul...|             Action|  FPS;Classic;Action|           0|           27755|            1100|            1300|             83| 5000000-10000000| 7.19|\n",
      "|   80|Counter-Strike: C...|  2004-03-01|      1|           Valve|    Valve|windows;mac;linux|           0|Single-player;Mul...|             Action|Action;FPS;Multip...|           0|           12120|            1439|             427|             43|10000000-20000000| 7.19|\n",
      "|  130|Half-Life: Blue S...|  2001-06-01|      1|Gearbox Software|    Valve|windows;mac;linux|           0|       Single-player|             Action|   FPS;Action;Sci-fi|           0|            3822|             420|             361|            205| 5000000-10000000| 3.99|\n",
      "|  220|         Half-Life 2|  2004-11-16|      1|           Valve|    Valve|windows;mac;linux|           0|Single-player;Ste...|             Action|   FPS;Action;Sci-fi|          33|           67902|            2419|             691|            402|10000000-20000000| 7.19|\n",
      "|  240|Counter-Strike: S...|  2004-11-01|      1|           Valve|    Valve|windows;mac;linux|           0|Multi-player;Cros...|             Action|Action;FPS;Multip...|         147|           76640|            3497|            6842|            400|10000000-20000000| 7.19|\n",
      "|  280|   Half-Life: Source|  2004-06-01|      1|           Valve|    Valve|windows;mac;linux|           0|       Single-player|             Action|   FPS;Action;Sci-fi|           0|            3767|            1053|             190|            214|  2000000-5000000|  0.0|\n",
      "|  300|Day of Defeat: So...|  2010-07-12|      1|           Valve|    Valve|windows;mac;linux|           0|Multi-player;Cros...|             Action|FPS;World War II;...|          54|           10489|            1210|            1356|            134| 5000000-10000000| 7.19|\n",
      "|  320|Half-Life 2: Deat...|  2004-11-01|      1|           Valve|    Valve|windows;mac;linux|           0|Multi-player;Valv...|             Action|Action;FPS;Multip...|           0|            6020|             787|             311|             32|10000000-20000000| 3.99|\n",
      "|  340|Half-Life 2: Lost...|  2005-10-27|      1|           Valve|    Valve|windows;mac;linux|           0|Single-player;Com...|             Action|FPS;Action;Single...|           0|            5783|            1020|              46|             29|10000000-20000000|  0.0|\n",
      "|  360|Half-Life Deathma...|  2006-05-01|      1|           Valve|    Valve|windows;mac;linux|           0|Multi-player;Valv...|             Action|Action;FPS;Multip...|           0|            1362|             473|             102|             81| 5000000-10000000|  0.0|\n",
      "|  380|Half-Life 2: Epis...|  2006-06-01|      1|           Valve|    Valve|windows;mac;linux|           0|Single-player;Ste...|             Action|   FPS;Action;Sci-fi|          13|            7908|             517|             281|            184| 5000000-10000000| 5.79|\n",
      "|  400|              Portal|  2007-10-10|      1|           Valve|    Valve|windows;mac;linux|           0|Single-player;Ste...|             Action|Puzzle;First-Pers...|          15|           51801|            1080|             288|            137|10000000-20000000| 7.19|\n",
      "|  420|Half-Life 2: Epis...|  2007-10-10|      1|           Valve|    Valve|windows;mac;linux|           0|Single-player;Ste...|             Action|   FPS;Action;Sci-fi|          22|           13902|             696|             354|            301| 5000000-10000000| 5.79|\n",
      "|  440|     Team Fortress 2|  2007-10-10|      1|           Valve|    Valve|windows;mac;linux|           0|Multi-player;Cros...|Action;Free to Play|Free to Play;Mult...|         520|          515879|           34036|            8495|            623|20000000-50000000|  0.0|\n",
      "+-----+--------------------+------------+-------+----------------+---------+-----------------+------------+--------------------+-------------------+--------------------+------------+----------------+----------------+----------------+---------------+-----------------+-----+\n",
      "only showing top 20 rows\n",
      "\n"
     ]
    }
   ],
   "source": [
    "#display df\n",
    "new_df.show()"
   ]
  },
  {
   "cell_type": "code",
   "execution_count": 21,
   "id": "1c5db4eb",
   "metadata": {},
   "outputs": [],
   "source": [
    "#transform\n",
    "new_df = new_df.withColumn(\"english\", when(new_df[\"english\"] == 1, 'yes').otherwise(new_df[\"english\"]))\n",
    "new_df = new_df.withColumn(\"required_age\", when(new_df[\"required_age\"] == 0, None).otherwise(new_df[\"required_age\"]))"
   ]
  },
  {
   "cell_type": "code",
   "execution_count": null,
   "id": "69229591",
   "metadata": {},
   "outputs": [],
   "source": [
    "#check if there is any null values\n",
    "null_counts = new_df.select([count(when(col(c).isNull(), c)).alias(c) for c in new_df.columns])\n",
    "\n",
    "null_counts.show()"
   ]
  },
  {
   "cell_type": "code",
   "execution_count": null,
   "id": "11fe6455",
   "metadata": {},
   "outputs": [],
   "source": [
    "#transform\n",
    "for col_name in new_df.columns:\n",
    "    new_df = new_df.withColumn(col_name, when(new_df[col_name].isNull(), 'default_value').otherwise(new_df[col_name]))\n",
    "new_df = new_df.na.fill({'director':'default'})"
   ]
  },
  {
   "cell_type": "code",
   "execution_count": 22,
   "id": "87d2ab29",
   "metadata": {},
   "outputs": [],
   "source": [
    "#Load new df to MySql\n",
    "new_df.write.format(\"jdbc\").options(\n",
    "    \n",
    "    url=\"jdbc:mysql://localhost:3306/test\",\n",
    "    driver=\"com.mysql.cj.jdbc.Driver\",\n",
    "    dbtable=\"game_info\",\n",
    "    user=\"root\",\n",
    "    password=\"berkberk09\"\n",
    "    ).mode(\"overwrite\").save()"
   ]
  },
  {
   "cell_type": "code",
   "execution_count": 15,
   "id": "13ae2af5",
   "metadata": {
    "collapsed": true
   },
   "outputs": [
    {
     "name": "stdout",
     "output_type": "stream",
     "text": [
      "+-----+----+------------+-------+---------+---------+---------+------------+----------+------+-------------+------------+----------------+----------------+----------------+---------------+------+-----+\n",
      "|appid|name|release_date|english|developer|publisher|platforms|required_age|categories|genres|steamspy_tags|achievements|positive_ratings|negative_ratings|average_playtime|median_playtime|owners|price|\n",
      "+-----+----+------------+-------+---------+---------+---------+------------+----------+------+-------------+------------+----------------+----------------+----------------+---------------+------+-----+\n",
      "|    0|   0|           0|      0|        0|        0|        0|       26477|         0|     0|            0|           0|               0|               0|               0|              0|     0|    0|\n",
      "+-----+----+------------+-------+---------+---------+---------+------------+----------+------+-------------+------------+----------------+----------------+----------------+---------------+------+-----+\n",
      "\n"
     ]
    }
   ],
   "source": [
    "null_counts = new_df.select([count(when(col(c).isNull(), c)).alias(c) for c in new_df.columns])\n",
    "\n",
    "null_counts.show()"
   ]
  },
  {
   "cell_type": "code",
   "execution_count": null,
   "id": "9fbf1215",
   "metadata": {},
   "outputs": [],
   "source": []
  }
 ],
 "metadata": {
  "kernelspec": {
   "display_name": "Python 3 (ipykernel)",
   "language": "python",
   "name": "python3"
  },
  "language_info": {
   "codemirror_mode": {
    "name": "ipython",
    "version": 3
   },
   "file_extension": ".py",
   "mimetype": "text/x-python",
   "name": "python",
   "nbconvert_exporter": "python",
   "pygments_lexer": "ipython3",
   "version": "3.11.5"
  }
 },
 "nbformat": 4,
 "nbformat_minor": 5
}
